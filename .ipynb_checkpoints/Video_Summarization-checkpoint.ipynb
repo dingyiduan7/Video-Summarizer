{
 "cells": [
  {
   "cell_type": "markdown",
   "id": "06104d0a",
   "metadata": {},
   "source": [
    "# Required libraries"
   ]
  },
  {
   "cell_type": "markdown",
   "id": "73b27f23",
   "metadata": {},
   "source": [
    "### openai-whisper: This library provides access to OpenAI's Whisper model for audio transcription.\n",
    "### youtube-dl: Used to fetch audio streams from YouTube videos.\n",
    "### ffmpeg-python: A Python wrapper for FFmpeg, which helps in processing audio streams"
   ]
  },
  {
   "cell_type": "markdown",
   "id": "e17ea07d",
   "metadata": {},
   "source": [
    "## 1. Download the audio of the video we want to summarize"
   ]
  },
  {
   "cell_type": "code",
   "execution_count": 1,
   "id": "e5905fa8",
   "metadata": {},
   "outputs": [],
   "source": [
    "import yt_dlp\n",
    "import ffmpeg\n",
    "import whisper\n",
    "import torch\n",
    "from transformers import pipeline, BartTokenizer\n",
    "import pyttsx3\n",
    "from tqdm import tqdm\n",
    "import time\n",
    "from pydub import AudioSegment"
   ]
  },
  {
   "cell_type": "code",
   "execution_count": 2,
   "id": "cefc812c-5fbe-4567-b429-3fd21491ad9b",
   "metadata": {},
   "outputs": [],
   "source": [
    "video_url = 'https://www.youtube.com/watch?v=zuzW7Ipoe6U'  # video URL"
   ]
  },
  {
   "cell_type": "code",
   "execution_count": 3,
   "id": "cc4d088e",
   "metadata": {},
   "outputs": [],
   "source": [
    "# Function to extract audio from a YouTube video\n",
    "def extract_audio_stream(video_url):\n",
    "    # Set youtube-dl options\n",
    "    ydl_opts = {\n",
    "        'format': 'bestaudio/best',  # Best available audio format\n",
    "        'quiet': True,  # Suppress verbose output\n",
    "        'outtmpl': 'audio.%(ext)s',  # Output template for audio file\n",
    "        'postprocessors': [{\n",
    "            'key': 'FFmpegExtractAudio',  # Use FFmpeg to extract audio\n",
    "            'preferredcodec': 'mp3',  # Preferred audio codec\n",
    "            'preferredquality': '192',  # Preferred audio quality\n",
    "        }],\n",
    "    }\n",
    "\n",
    "    with yt_dlp.YoutubeDL(ydl_opts) as ydl:\n",
    "        # Download the audio stream\n",
    "        ydl.download([video_url])\n",
    "\n",
    "    # Return the downloaded audio file path\n",
    "    return 'audio.mp3'"
   ]
  },
  {
   "cell_type": "code",
   "execution_count": 4,
   "id": "a6767adc",
   "metadata": {},
   "outputs": [
    {
     "name": "stdout",
     "output_type": "stream",
     "text": [
      "Audio File: audio.mp3                                      \n"
     ]
    }
   ],
   "source": [
    "# Example usage\n",
    "audio_file = extract_audio_stream(video_url)\n",
    "print(f'Audio File: {audio_file}')"
   ]
  },
  {
   "cell_type": "markdown",
   "id": "aebddb6a",
   "metadata": {},
   "source": [
    "## 1.1 Test the audio file downloaded"
   ]
  },
  {
   "cell_type": "code",
   "execution_count": 5,
   "id": "425ce072",
   "metadata": {},
   "outputs": [],
   "source": [
    "#from IPython.display import Audio\n",
    "\n",
    "# Play the audio file in the notebook\n",
    "#Audio(\"audio.mp3\")"
   ]
  },
  {
   "cell_type": "markdown",
   "id": "779213ad",
   "metadata": {},
   "source": [
    "## 2. Transcribe Audio Using preloaded OpenAI's Whisper model"
   ]
  },
  {
   "cell_type": "code",
   "execution_count": 6,
   "id": "aaddd33a-48b4-4b89-9d7f-e5e8fb2fbeb7",
   "metadata": {},
   "outputs": [
    {
     "name": "stdout",
     "output_type": "stream",
     "text": [
      "Loading Whisper large model...\n"
     ]
    },
    {
     "name": "stderr",
     "output_type": "stream",
     "text": [
      "Loading Model: 100%|██████████████████████████████████████████████████████████████████████████████ [ time left: 00:00 ]\n"
     ]
    },
    {
     "name": "stdout",
     "output_type": "stream",
     "text": [
      "Model loaded successfully.\n"
     ]
    },
    {
     "name": "stderr",
     "output_type": "stream",
     "text": [
      "Transcribing Audio: 100%|█████████████████████████████████████████████████████████████████████████ [ time left: 00:00 ]\n"
     ]
    },
    {
     "name": "stdout",
     "output_type": "stream",
     "text": [
      "Transcribing audio.mp3...\n",
      "Transcript:  Today I will tell you an inspiring story from history. In ancient Rome, Seneca was one of the most famous philosophers of his time, who had great wealth. Despite his wealth, Seneca found inner peace and happiness by adopting the teachings of Stoic philosophy. One day, one of Seneca's students asked him, does wealth bring happiness or does happiness come from wealth? In answering this question, Seneca deeply analyzed the nature of wealth and happiness. So why did we start with Seneca's story? Because this video explores the relationship between wealth and happiness within the framework of Stoic philosophy. How do you think happiness and wealth are related? In this video, you will learn the answers to such questions and how to achieve true happiness. Have you ever thought that wealth brings happiness? Or on the contrary, have you known people who are rich but unhappy? To understand this complex relationship between wealth and happiness, we will take an in-depth journey guided by Stoic philosophy. By the end of this video, you will have a whole new perspective on the relationship between wealth and happiness. In this video, we will explore in detail how we can address the relationship between wealth and happiness from the perspective of Stoic philosophy, starting with the psychological effects of wealth, then how we can apply this knowledge using practical strategies and reverse psychology techniques. In each chapter, we will explore the relationship between wealth and happiness, and how we can address the relationship between wealth and happiness. We will also explore the topic in depth with real-life examples and show you how you can apply it to your own life. Now let's start this exciting journey and explore the relationship between wealth and happiness. Wealth can have profound effects on an individual's psychological health. It can boost self-esteem, but it can also lead to negative emotional states such as stress, anxiety, and depression. Wealth can raise an individual's social status and offer more opportunities, but it can also lead to increased expectations and expectations. We will also explore the relationship between wealth and happiness. Wealth can have profound effects on an individual's psychological health. It can also lead to increased expectations and expectations. Wealth can lead to increased expectations and expectations. Research shows that up to a certain income level, wealth can increase happiness, but after that level, it has no significant impact on happiness. Therefore, to understand the relationship between wealth and happiness, it is important to delve deeper into the psychological effects of wealth on the individual. Stoic Philosophy and Wealth and Happiness Stoicism preaches accepting what we cannot control and managing our emotions. This philosophy can be an excellent guide to understanding the relationship between wealth and happiness. The basic principle of Stoicism is that it is not external events that matter, but our reactions to them. Therefore, it is not important that wealth brings us happiness, but how we react to it and how we use it. Seneca argues that wealth does not bring happiness, but rather happiness is an internal state. Wealth is only a means and not the source of happiness. According to Stoic philosophy, happiness comes from inner peace and serenity. In order to find this peace, we need to re-evaluate our relationships with the outside world and our expectations. Practical Strategies and Applications There are many strategies for balancing wealth and happiness. These strategies aim to increase happiness and maintain inner peace through the proper use of wealth. First, it is important to see wealth as a means rather than an end. Wealth can make our lives more comfortable and secure, but it is not the source of happiness. Reverse psychology techniques can be an effective tool in balancing wealth and happiness. For example, reminding ourselves that wealth does not bring happiness can help us use it properly and maintain our inner peace. Also, sharing wealth and helping others can both increase our happiness and enable us to contribute to society. Finally, listen to the most important point in this video. Because it contains the most critical strategy for understanding the relationship between wealth and happiness. This strategy will not only help you deal with these situations, but it will also help you turn these experiences into the greatest opportunities of your life. So stay with us till the end of the video and don't miss this important material. Part 1. The psychological effects of wealth. In order to understand the psychological effects of wealth on individuals, it is first necessary to examine how wealth is defined and its effects on individuals. Wealth is often associated with material assets, but this definition is quite limited. Wealth also includes other factors such as health, social relationships, knowledge and experiences. Therefore, to understand the psychological effects of wealth, it is important to consider this broad scope. Wealth can increase an individual's self-esteem. Material assets can reinforce an individual's self-confidence and raise their social status. This can make the individual feel more valuable and important. However, this increase in self-esteem depends on whether the wealth is sustainable. If wealth is temporary, an individual's self-confidence may also be temporary. And the loss of wealth may be a result of the loss of self-esteem. This is a very important point. The wealth can be a source of self-confidence. Wealth can be a source of need. Wealth can be gained by responding to stealing money and struggling to satisfy that need. Wealth can be earned secondhand through pelos Pakistani haveersonic wealth affectingbowl or muscles of light in light. Wealth can be earned by opinion technology by화 buying modeling technology. Wealth it may generate positive and negative results and individual's social circle and provide opportunities to participate in more social activities. However, the quality of these relationships is important. If social relationships are based on material interests, these relationships may not be sustainable and may cause the individual to feel lonely. In addition, wealth can make it difficult for an individual to understand the true intentions of the people around them and can increase feelings of insecurity. To understand the relationship between wealth and happiness, how an individual perceives and uses wealth is also important. Research shows that up to a certain level of income, wealth can increase happiness. But after that level, it has no significant impact on happiness. This depends on how the individual uses wealth and how well it aligns with the individual's values and goals. Wealth can increase an individual's happiness, but this happiness is usually short-lived. This is why wealth is important. This is why it is important. This is why wealth is important. In short term, material possessions can fulfill an individual's needs and provide temporary happiness. However, true happiness comes from a deeper and lasting inner peace. To find this peace, an individual needs to live a life in line with their values and goals. Wealth can be a tool in this process, but it is not the source of happiness. Understanding the psychological effects of wealth on the individual includes developing strategies to cope with these effects. These strategies aim to use wealth properly and maintain inner peace. First, it is important to see wealth as a means rather than an end. Wealth can make our lives more comfortable and secure, but it is not the source of happiness. Another strategy for balancing wealth and happiness is to share wealth. Helping others and contributing to society can increase an individual's happiness. Research shows that helping others and sharing helps an individual feel better about themselves and increase their happiness. To understand the psychological effects of wealth, we must first understand the physical effects of wealth and happiness. We must first understand the psychological effects of wealth and happiness. Therefore, using and sharing wealth properly is an important way to balance wealth and happiness. Finally, it is important to recognize that wealth is temporary and act accordingly. Wealth is part of our lives, but it is not permanent. Therefore, it is important not to become addicted to wealth in order to maintain our inner peace and happiness even in the event of its loss. Wealth can make our lives more comfortable, but true happiness comes from a sense of inner peace and living a life in accordance with our values. Chapter 2 Wealth and Happiness with Stoic Philosophy Stoic philosophy is an excellent guide to understanding the relationship between wealth and happiness. Stoicism teaches us to accept what we cannot control and to manage our emotions. It is not that wealth brings us happiness, but how we react to it and how we use it. Seneca argues that wealth does not bring us happiness, but how we use it. This is the best way to understand wealth. Wealth does not bring happiness, but rather that happiness is an internal state. Wealth is only a means and not the source of happiness. According to Stoic philosophy, happiness comes from inner peace and serenity. To find this peace, we need to re-evaluate our expectations and our relationships with the outside world. One of the basic principles of Stoic philosophy is that it is not external events that matter, but our reactions to them. Therefore, it is not important that wealth brings us happiness, but how we react to it and how we use it. Instead of seeing wealth as an end, the Stoics argue that we should see it as a means to an end. Wealth can make our lives more comfortable and secure, but it is not the source of happiness. Another Stoic principle is that inner peace and happiness are independent of the external world. The source of happiness is not in the external world, but in our inner world, says Epictetus. Therefore, wealth is not a determining factor in our happiness. True happiness comes from inner peace and serenity. To find this peace, we need to live a life in accordance with our own values and goals. Stoic philosophy argues that wealth is temporary and therefore we should not be addicted to it. Wealth is part of our lives, but it is not permanent. Therefore, it is important not to depend on wealth in order to maintain our inner peace and happiness, even in the event of its loss. Wealth can make our lives more comfortable, but true happiness comes from inner peace and living a life in accordance with our values. Stoic philosophy also offers ways of balancing wealth and happiness. These ways are aimed at using wealth properly and maintaining inner peace. First, it is important to see wealth as a means rather than an end. Wealth can make our lives more comfortable and secure, but it is not the source of happiness. Another way to balance wealth and happiness is to share wealth. Helping others and contributing to society can increase an individual's happiness. Research shows that helping others and sharing helps an individual feel better about themselves and increase their inner peace. Therefore, using and sharing wealth properly is an important way to balance wealth and happiness. Stoic philosophy offers another way to balance wealth and happiness, living a modest life. Stoics argue that living a modest life increases inner peace and happiness. Therefore, living a modest life, even in the midst of wealth, is an important way to balance wealth and happiness. A modest life focuses on meeting our needs and avoids unnecessary luxuries. This lifestyle promotes inner peace and happiness. Stoic philosophy offers another way to balance wealth and happiness. Gratitude Gratitude means appreciating what we have and being grateful for it. This is an important way to increase inner peace and happiness even in the midst of wealth. Giving thanks helps us appreciate what we have and reduce the fear of losing it. This is an important way to balance wealth and happiness. Section 3. Practical Strategies and Applications There are many strategies for balancing wealth and happiness. These strategies aim to increase happiness and maintain inner peace through the proper use of wealth. First, it is important to see wealth as a means rather than an end. Wealth can make our lives more comfortable and secure, but it is not the source of happiness. Reverse psychology techniques can be an effective tool in balancing wealth and happiness. For example, reminding ourselves that wealth does not bring happiness can help us use it properly and maintain our inner peace. Also, sharing wealth and helping others can both increase our happiness and enable us to contribute to society. For example, sharing wealth and helping others can both increase our happiness and enable us to contribute to society. Another strategy for balancing wealth and happiness is to use wealth consciously. This involves carefully planning our spending and investments and avoiding unnecessary spending. Conscious spending helps us preserve our wealth and increase our long-term happiness. Also, by using wealth properly, we can maintain our inner peace and happiness. Another way to balance wealth and happiness is to see wealth as a tool and use it to increase our inner peace. This involves using wealth in a way that is in line with our own values and goals. For example, using wealth in areas such as education, health and personal development can increase our inner peace and happiness. Also, using wealth to help others and contribute to society can increase our happiness. Another strategy for balancing wealth and happiness is to see wealth as a tool and avoid unnecessary luxuries. This means living a modest life and focusing on meeting our needs. A modest life increases inner peace and happiness and reduces stress from unnecessary luxuries. Furthermore, a modest life helps us to preserve our wealth and increase our long-term happiness. Another strategy for balancing wealth and happiness is to see wealth as a tool and to be grateful. Gratitude means appreciating what we have and being grateful for it. This is an important way to increase inner peace and happiness even in the midst of wealth. Giving thanks helps us appreciate what we have and reduce the fear of losing it. Also, gratitude is an important way to balance wealth and happiness. Finally, another strategy for balancing wealth and happiness is to see wealth as a tool and use it to maintain our inner peace. This involves using wealth in a way that aligns with our own values and goals. For example, using wealth in areas such as education, health and personal development can increase our inner peace and happiness. Also, using wealth to help others and contribute to society can increase our happiness. If you found what you learned in this video useful, please share your thoughts with us. Write in the comments about your experiences and which of these lessons is most important to you. Perhaps you would like to share a story of wealth and happiness in your own life and how you came out of it empowered. This can be inspiring for you and other viewers. Also, don't forget to like the video and subscribe to our channel because we will share a lot more useful content on this platform. Every subscriber and like is a great motivator for us and helps us produce more content. Let us know what you would like to see in our future videos. Your feedback helps us improve our content and better respond to your needs. Thank you for watching this video. Remember, wealth is a tool and true happiness comes from inner peace. Believe in yourself and never give up. See you in our next video.\n"
     ]
    }
   ],
   "source": [
    "# Function to initialize and preload the Whisper model with a progress bar\n",
    "def preload_whisper_model_with_progress():\n",
    "    print(\"Loading Whisper large model...\")\n",
    "    \n",
    "    # Simulate progress for model loading\n",
    "    progress_bar = tqdm(total=100, desc=\"Loading Model\", bar_format=\"{l_bar}{bar} [ time left: {remaining} ]\")\n",
    "    \n",
    "    # Simulate loading time (e.g., 5 seconds)\n",
    "    simulated_loading_time = 1  # seconds\n",
    "    loading_steps = 100  # Number of steps to simulate\n",
    "    \n",
    "    for _ in range(loading_steps):\n",
    "        # Simulate some work being done\n",
    "        time.sleep(simulated_loading_time / loading_steps)\n",
    "        progress_bar.update(1)\n",
    "    \n",
    "    progress_bar.close()\n",
    "    \n",
    "    # Load the Whisper model and move it to the appropriate device\n",
    "    model = whisper.load_model(\"large\").to(\"cuda\" if torch.cuda.is_available() else \"cpu\")\n",
    "    print(\"Model loaded successfully.\")\n",
    "    return model\n",
    "\n",
    "# Function to transcribe audio using the preloaded Whisper model\n",
    "def transcribe_audio_with_progress(model, audio_file, language='en'):\n",
    "    # Load the audio file to get its duration\n",
    "    audio = AudioSegment.from_file(audio_file)\n",
    "    audio_duration = len(audio) / 1000  # Duration in seconds\n",
    "\n",
    "    # Initialize progress bar for transcription\n",
    "    progress_bar = tqdm(total=100, desc=\"Transcribing Audio\", bar_format=\"{l_bar}{bar} [ time left: {remaining} ]\")\n",
    "    \n",
    "    # Estimate transcription time based on audio duration\n",
    "    estimated_transcription_time = audio_duration * 0.5  # Example: assume transcription takes 50% of audio duration\n",
    "    transcription_steps = 100  # Number of steps for progress bar\n",
    "\n",
    "    for _ in range(transcription_steps):\n",
    "        time.sleep(estimated_transcription_time / transcription_steps)\n",
    "        progress_bar.update(1)\n",
    "    \n",
    "    progress_bar.close()\n",
    "\n",
    "    print(f\"Transcribing {audio_file}...\")\n",
    "    result = model.transcribe(audio_file, language=language)\n",
    "    transcript = result['text']\n",
    "    return transcript\n",
    "\n",
    "# Preload the model with a progress bar\n",
    "whisper_model = preload_whisper_model_with_progress()\n",
    "\n",
    "# Path to your Chinese audio file\n",
    "audio_file = 'audio.mp3'  # Replace with the actual path to your audio file\n",
    "\n",
    "# Transcribe the audio using the preloaded model with progress bar\n",
    "transcript = transcribe_audio_with_progress(whisper_model, audio_file)\n",
    "print('Transcript:', transcript)"
   ]
  },
  {
   "cell_type": "markdown",
   "id": "d79d4129-96e1-4246-94af-55a636f8cf0b",
   "metadata": {},
   "source": [
    "## 3.Summarize the Transcript Using Hugging Face Transformers"
   ]
  },
  {
   "cell_type": "markdown",
   "id": "4b69f2ec-0ad4-4666-9a6e-d8240d258455",
   "metadata": {},
   "source": [
    "## 3.1 Initialization"
   ]
  },
  {
   "cell_type": "code",
   "execution_count": 7,
   "id": "c3dfdb68-6bf2-4303-96ab-0e4e8ff4ca57",
   "metadata": {},
   "outputs": [],
   "source": [
    "# Load the summarization pipeline with a pre-trained model\n",
    "# Initialize the summarization pipeline and tokenizer\n",
    "summarizer = pipeline('summarization', model='facebook/bart-large-cnn')\n",
    "tokenizer = BartTokenizer.from_pretrained('facebook/bart-large-cnn')"
   ]
  },
  {
   "cell_type": "code",
   "execution_count": 8,
   "id": "6c7f9ef0-4ede-4310-ac7e-31e4d2525692",
   "metadata": {},
   "outputs": [],
   "source": [
    "# Initialize the text-to-speech engine\n",
    "tts_engine = pyttsx3.init()"
   ]
  },
  {
   "cell_type": "code",
   "execution_count": 9,
   "id": "81f716c8-5b20-4707-af52-0f5a7ecc2988",
   "metadata": {},
   "outputs": [],
   "source": [
    "# Set properties for the TTS engine\n",
    "tts_engine.setProperty('rate', 150)  # Speed of speech\n",
    "tts_engine.setProperty('volume', 0.9)  # Volume (0.0 to 1.0)\n",
    "\n",
    "# Change voice (if multiple voices are available)\n",
    "voices = tts_engine.getProperty('voices')\n",
    "tts_engine.setProperty('voice', voices[0].id)  # Change index for different voices"
   ]
  },
  {
   "cell_type": "markdown",
   "id": "373806df-25bd-40ba-9acb-a48395a06444",
   "metadata": {},
   "source": [
    "## 3.2 Functions to split the transcript if it exceeds 1024 words/tokens as the max limit for BART"
   ]
  },
  {
   "cell_type": "code",
   "execution_count": 10,
   "id": "0cf961ef-1f0a-4360-bae3-47b89959277a",
   "metadata": {},
   "outputs": [],
   "source": [
    "# Function to split transcript into chunks\n",
    "def split_transcript(transcript, max_tokens=1024):\n",
    "    # Tokenize the transcript\n",
    "    tokens = tokenizer(transcript, return_tensors='pt', truncation=False)['input_ids'][0]\n",
    "    total_tokens = len(tokens)\n",
    "\n",
    "    # Split into chunks\n",
    "    chunks = []\n",
    "    for i in range(0, total_tokens, max_tokens):\n",
    "        chunk_tokens = tokens[i:i+max_tokens]\n",
    "        chunk_text = tokenizer.decode(chunk_tokens, skip_special_tokens=True)\n",
    "        chunks.append(chunk_text)\n",
    "\n",
    "    return chunks"
   ]
  },
  {
   "cell_type": "code",
   "execution_count": 11,
   "id": "ede7268c-9d1d-40cb-a509-defdcb5b1014",
   "metadata": {},
   "outputs": [],
   "source": [
    "# Function to summarize the transcript\n",
    "def summarize_transcript(transcript):\n",
    "    # Tokenize the transcript to get the number of tokens\n",
    "    tokens = tokenizer(transcript, return_tensors='pt', truncation=False)['input_ids'][0]\n",
    "    total_tokens = len(tokens)\n",
    "\n",
    "    # Check if the transcript is longer than the model's token limit\n",
    "    if total_tokens > 1024:\n",
    "        print(f\"Transcript is too long ({total_tokens} tokens). Splitting into chunks.\")\n",
    "        transcript_chunks = split_transcript(transcript, max_tokens=1024)\n",
    "        summaries = []\n",
    "        for index, chunk in enumerate(transcript_chunks):\n",
    "            try:\n",
    "                summary = summarizer(chunk, max_length=150, min_length=50, do_sample=False)\n",
    "                summaries.append(summary[0]['summary_text'])\n",
    "            except IndexError as e:\n",
    "                print(f\"Error summarizing chunk {index}: {e}\")\n",
    "        final_summary = ' '.join(summaries)\n",
    "    else:\n",
    "        try:\n",
    "            print(f\"Transcript is within token limit ({total_tokens} tokens). Summarizing directly.\")\n",
    "            summary = summarizer(transcript, max_length=200, min_length=50, do_sample=False)\n",
    "            final_summary = summary[0]['summary_text']\n",
    "        except IndexError as e:\n",
    "            print(f\"Error summarizing the transcript: {e}\")\n",
    "            final_summary = \"\"\n",
    "\n",
    "    return final_summary"
   ]
  },
  {
   "cell_type": "code",
   "execution_count": 12,
   "id": "3e9d5e8a-a28f-47ce-9528-630c0c413bb3",
   "metadata": {},
   "outputs": [],
   "source": [
    "# Function to read the text aloud\n",
    "def read_text_aloud(text):\n",
    "    tts_engine.say(text)\n",
    "    tts_engine.runAndWait()"
   ]
  },
  {
   "cell_type": "markdown",
   "id": "471fee65-4d73-49c2-8d4e-81ac5302ef1c",
   "metadata": {},
   "source": [
    "## 3.3 Summarize"
   ]
  },
  {
   "cell_type": "code",
   "execution_count": 13,
   "id": "3f5120e8-f723-4e7f-b767-6f620b5dadcd",
   "metadata": {},
   "outputs": [
    {
     "name": "stdout",
     "output_type": "stream",
     "text": [
      "Transcript is too long (2988 tokens). Splitting into chunks.\n",
      "Error summarizing chunk 0: index out of range in self\n",
      "Error summarizing chunk 1: index out of range in self\n",
      "Final Summary:  wealth can make our lives more comfortable and secure, but it is not the source of happiness. Helping others and contributing to society can increase an individual's happiness. Gratitude means appreciating what we have and being grateful for it. Remember, wealth is a tool and true happiness comes from inner peace.\n"
     ]
    }
   ],
   "source": [
    "# Summarize the transcript\n",
    "final_summary = summarize_transcript(transcript)\n",
    "print('Final Summary:', final_summary)"
   ]
  },
  {
   "cell_type": "code",
   "execution_count": 14,
   "id": "d208b30c-abec-4e52-9cf7-ceb05c0ae628",
   "metadata": {},
   "outputs": [],
   "source": [
    "# Read the final summary aloud\n",
    "read_text_aloud(final_summary)"
   ]
  }
 ],
 "metadata": {
  "kernelspec": {
   "display_name": "Python 3 (ipykernel)",
   "language": "python",
   "name": "python3"
  },
  "language_info": {
   "codemirror_mode": {
    "name": "ipython",
    "version": 3
   },
   "file_extension": ".py",
   "mimetype": "text/x-python",
   "name": "python",
   "nbconvert_exporter": "python",
   "pygments_lexer": "ipython3",
   "version": "3.11.9"
  }
 },
 "nbformat": 4,
 "nbformat_minor": 5
}
